{
 "cells": [
  {
   "cell_type": "code",
   "execution_count": 2,
   "metadata": {},
   "outputs": [],
   "source": [
    "from sympy import symbols, integrate, solve\n",
    "\n",
    "# Define symbols\n",
    "x, A, λ, t, u = symbols('x A λ t u')\n",
    "\n",
    "# Define the integral of the expression t^2 + 2 λ A from 0 to 1\n",
    "integral_A = A - integrate(t**2 + 2 * λ * A, (t, 0, 1))\n",
    "\n",
    "solution_A = solve(integral_A, A)\n",
    "\n",
    "u_x = x**2 + 2 * λ * solution_A[0]"
   ]
  },
  {
   "cell_type": "code",
   "execution_count": 3,
   "metadata": {},
   "outputs": [
    {
     "data": {
      "text/latex": [
       "$\\displaystyle x^{2} - \\frac{2 λ}{6 λ - 3}$"
      ],
      "text/plain": [
       "x**2 - 2*λ/(6*λ - 3)"
      ]
     },
     "execution_count": 3,
     "metadata": {},
     "output_type": "execute_result"
    }
   ],
   "source": [
    "u_x"
   ]
  },
  {
   "cell_type": "code",
   "execution_count": null,
   "metadata": {},
   "outputs": [],
   "source": []
  }
 ],
 "metadata": {
  "kernelspec": {
   "display_name": "Python 3",
   "language": "python",
   "name": "python3"
  },
  "language_info": {
   "codemirror_mode": {
    "name": "ipython",
    "version": 3
   },
   "file_extension": ".py",
   "mimetype": "text/x-python",
   "name": "python",
   "nbconvert_exporter": "python",
   "pygments_lexer": "ipython3",
   "version": "3.11.1"
  }
 },
 "nbformat": 4,
 "nbformat_minor": 2
}
