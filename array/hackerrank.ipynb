{
 "cells": [
  {
   "cell_type": "markdown",
   "metadata": {},
   "source": [
    "### Reverse Array\n",
    "\n",
    "[Hackerrank: Reverse Array](https://www.hackerrank.com/challenges/arrays-ds/problem?isFullScreen=true)"
   ]
  },
  {
   "cell_type": "code",
   "execution_count": 2,
   "metadata": {},
   "outputs": [],
   "source": [
    "def reverseArray(a):\n",
    "    # Write your code here\n",
    "    a = a[::-1]\n",
    "    return a"
   ]
  },
  {
   "cell_type": "markdown",
   "metadata": {},
   "source": [
    "### Rotate Left\n",
    "\n",
    "[Hackerrank: Rotate Left](https://www.hackerrank.com/challenges/array-left-rotation/problem?isFullScreen=true)"
   ]
  },
  {
   "cell_type": "code",
   "execution_count": 1,
   "metadata": {},
   "outputs": [],
   "source": [
    "def rotateLeft(d, arr):\n",
    "    arr = arr[d:] + arr[:d]\n",
    "    return arr"
   ]
  },
  {
   "cell_type": "code",
   "execution_count": null,
   "metadata": {},
   "outputs": [],
   "source": []
  },
  {
   "cell_type": "markdown",
   "metadata": {},
   "source": [
    "### 2D Array - DS\n",
    "\n",
    "[Hackerrank 2D Array ](https://www.hackerrank.com/challenges/2d-array/problem?isFullScreen=true)"
   ]
  },
  {
   "cell_type": "code",
   "execution_count": 3,
   "metadata": {},
   "outputs": [],
   "source": [
    "def hourglassSum(arr):\n",
    "    # Write your code here\n",
    "    maxSum = -99 \n",
    "    for i in range(4):\n",
    "        for j in range(4):\n",
    "            # top values\n",
    "            top = sum(arr[i][j:j+3])\n",
    "            # mid value \n",
    "            mid = arr[i+1][j+1]\n",
    "            # bottom values\n",
    "            bot = sum(arr[i+2][j:j+3])\n",
    "            hourglass = top + mid + bot \n",
    "            maxSum = max(hourglass,maxSum)\n",
    "    return maxSum    "
   ]
  }
 ],
 "metadata": {
  "kernelspec": {
   "display_name": "Python 3",
   "language": "python",
   "name": "python3"
  },
  "language_info": {
   "codemirror_mode": {
    "name": "ipython",
    "version": 3
   },
   "file_extension": ".py",
   "mimetype": "text/x-python",
   "name": "python",
   "nbconvert_exporter": "python",
   "pygments_lexer": "ipython3",
   "version": "3.11.1"
  }
 },
 "nbformat": 4,
 "nbformat_minor": 2
}
