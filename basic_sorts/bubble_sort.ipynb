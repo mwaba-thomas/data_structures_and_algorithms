{
 "cells": [
  {
   "cell_type": "markdown",
   "metadata": {},
   "source": [
    "### Bubble Sort\n",
    "\n",
    "- Bubble Sort is an algorithm that sorts an array from the lowest value to the highest value.\n",
    "- The word 'Bubble' comes from how this algorithm works, it makes the highest values 'bubble up'.\n",
    "\n",
    "\n",
    "#### How it works:\n",
    "\n",
    "1. Go through the array, one value at a time.\n",
    "\n",
    "2. For each value, compare the value with the next value.\n",
    "\n",
    "3. If the value is higher than the next one, swap the values so that the highest value comes last.\n",
    "\n",
    "4. Go through the array as many times as there are values in the array.\n",
    "\n",
    "[Bubble Sort: W3schools reference](https://www.w3schools.com/dsa/dsa_algo_bubblesort.php)"
   ]
  },
  {
   "cell_type": "code",
   "execution_count": 11,
   "metadata": {},
   "outputs": [],
   "source": [
    "def bubble_sort(my_list):\n",
    "    for i in range(len(my_list)-1,0,-1):\n",
    "        for j in range(i):\n",
    "            if my_list[j] > my_list[j + 1]:\n",
    "                temp = my_list[j]\n",
    "                my_list[j] = my_list[j +1]\n",
    "                my_list[j +1] = temp\n",
    "    return my_list"
   ]
  },
  {
   "cell_type": "code",
   "execution_count": 12,
   "metadata": {},
   "outputs": [
    {
     "data": {
      "text/plain": [
       "[1, 2, 3, 4, 5, 6]"
      ]
     },
     "execution_count": 12,
     "metadata": {},
     "output_type": "execute_result"
    }
   ],
   "source": [
    "bubble_sort([4,2,6,5,1,3])"
   ]
  },
  {
   "cell_type": "code",
   "execution_count": null,
   "metadata": {},
   "outputs": [],
   "source": []
  }
 ],
 "metadata": {
  "kernelspec": {
   "display_name": "Python 3",
   "language": "python",
   "name": "python3"
  },
  "language_info": {
   "codemirror_mode": {
    "name": "ipython",
    "version": 3
   },
   "file_extension": ".py",
   "mimetype": "text/x-python",
   "name": "python",
   "nbconvert_exporter": "python",
   "pygments_lexer": "ipython3",
   "version": "3.11.1"
  }
 },
 "nbformat": 4,
 "nbformat_minor": 2
}
