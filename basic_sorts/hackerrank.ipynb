{
 "cells": [
  {
   "cell_type": "markdown",
   "metadata": {},
   "source": [
    "[1. Insertion Sort - Part 1](https://www.hackerrank.com/challenges/insertionsort1/problem?isFullScreen=true)"
   ]
  },
  {
   "cell_type": "code",
   "execution_count": 2,
   "metadata": {},
   "outputs": [],
   "source": [
    "# Complete the 'insertionSort1' function below.\n",
    "#\n",
    "# The function accepts following parameters:\n",
    "#  1. INTEGER n\n",
    "#  2. INTEGER_ARRAY arr\n",
    "#\n",
    "\n",
    "def insertionSort1(n, arr):\n",
    "    # Write your code here\n",
    "    unsorted_part = arr[-1] # unsorted part of the list \n",
    "    i = n - 1 # last index of the arr\n",
    "    while i > 0 and arr[i-1] > unsorted_part:\n",
    "        arr[i] = arr[i-1] #update current value with the previous value\n",
    "        print(*arr)\n",
    "        i -= 1 # update i to be the previous index \n",
    "    arr[i] = unsorted_part \n",
    "    print(*arr)"
   ]
  },
  {
   "cell_type": "markdown",
   "metadata": {},
   "source": []
  },
  {
   "cell_type": "markdown",
   "metadata": {},
   "source": [
    "[2. Insertion Sort - Part 2](https://www.hackerrank.com/challenges/insertionsort2/problem?isFullScreen=true)"
   ]
  },
  {
   "cell_type": "code",
   "execution_count": 4,
   "metadata": {},
   "outputs": [],
   "source": [
    "def insertionSort2(n, arr):\n",
    "    # Write your code here\n",
    "    for i in range(1,n):\n",
    "        temp = arr[i] # second element of the list\n",
    "        j = i -1 # previous element\n",
    "        while temp < arr[j] and j > -1:\n",
    "            if arr[j+1] < arr[j]:\n",
    "                arr[j+1] = arr[j]\n",
    "                arr[j] = temp \n",
    "                j -= 1 \n",
    "        print(*arr)"
   ]
  },
  {
   "cell_type": "code",
   "execution_count": 5,
   "metadata": {},
   "outputs": [],
   "source": [
    "def insertionSort22(n,arr):\n",
    "    for j in range(1,n):\n",
    "        key = arr[j]\n",
    "        i = j \n",
    "        while i > 0 and arr[i-1] > key:\n",
    "            arr[i] = arr[i-1]\n",
    "            i-=1 \n",
    "        arr[i] = key \n",
    "        print(*arr)"
   ]
  },
  {
   "cell_type": "code",
   "execution_count": null,
   "metadata": {},
   "outputs": [],
   "source": []
  }
 ],
 "metadata": {
  "kernelspec": {
   "display_name": "Python 3",
   "language": "python",
   "name": "python3"
  },
  "language_info": {
   "codemirror_mode": {
    "name": "ipython",
    "version": 3
   },
   "file_extension": ".py",
   "mimetype": "text/x-python",
   "name": "python",
   "nbconvert_exporter": "python",
   "pygments_lexer": "ipython3",
   "version": "3.11.1"
  }
 },
 "nbformat": 4,
 "nbformat_minor": 2
}
