{
 "cells": [
  {
   "cell_type": "markdown",
   "metadata": {},
   "source": [
    "### Insertion Sort\n",
    "\n",
    "\n",
    "- The Insertion Sort algorithm uses one part of the array to hold the sorted values, and the other part of the array to hold values that are not sorted yet.\n",
    "\n",
    "- The algorithm takes one value at a time from the unsorted part of the array and puts it into the right place in the sorted part of the array, until the array is sorted.\n",
    "\n",
    "\n",
    "#### How it works:\n",
    "\n",
    "1. Take the first value from the unsorted part of the array.\n",
    "\n",
    "2. Move the value into the correct place in the sorted part of the array.\n",
    "\n",
    "3. Go through the unsorted part of the array again as many times as there are values.\n",
    "\n",
    "\n",
    "[Insertion Sort: W3schools reference](https://www.w3schools.com/dsa/dsa_algo_insertionsort.php)"
   ]
  },
  {
   "cell_type": "code",
   "execution_count": 1,
   "metadata": {},
   "outputs": [],
   "source": [
    "def insertion_sort(my_list):\n",
    "    for i in range(1,len(my_list)):\n",
    "        temp = my_list[i]\n",
    "        j = i - 1 \n",
    "        while temp < my_list[j] and j > -1:\n",
    "            my_list[j+1] = my_list[j]\n",
    "            my_list[j] = temp \n",
    "            j -=1 \n",
    "    return my_list"
   ]
  },
  {
   "cell_type": "code",
   "execution_count": 2,
   "metadata": {},
   "outputs": [
    {
     "data": {
      "text/plain": [
       "[1, 2, 3, 4, 5, 6]"
      ]
     },
     "execution_count": 2,
     "metadata": {},
     "output_type": "execute_result"
    }
   ],
   "source": [
    "insertion_sort([4,2,6,5,1,3])"
   ]
  },
  {
   "cell_type": "code",
   "execution_count": null,
   "metadata": {},
   "outputs": [],
   "source": []
  }
 ],
 "metadata": {
  "kernelspec": {
   "display_name": "Python 3",
   "language": "python",
   "name": "python3"
  },
  "language_info": {
   "codemirror_mode": {
    "name": "ipython",
    "version": 3
   },
   "file_extension": ".py",
   "mimetype": "text/x-python",
   "name": "python",
   "nbconvert_exporter": "python",
   "pygments_lexer": "ipython3",
   "version": "3.11.1"
  }
 },
 "nbformat": 4,
 "nbformat_minor": 2
}
