{
 "cells": [
  {
   "cell_type": "markdown",
   "metadata": {},
   "source": [
    "### Selection Sort\n",
    "\n",
    "- The algorithm finds the lowest value in an array and moves it to the front of the array.\n",
    "\n",
    "- The algorithm looks through the array again and again, moving the next lowest values to the front, until the array is sorted.\n",
    "\n",
    "\n",
    "\n",
    "#### How it works:\n",
    "\n",
    "1. Go through the array to find the lowest value.\n",
    "\n",
    "2. Move the lowest value to the front of the unsorted part of the array.\n",
    "\n",
    "3. Go through the array again as many times as there are values in the array.\n",
    "\n",
    "\n",
    "[Selection Sort: W3schools reference](https://www.w3schools.com/dsa/dsa_algo_selectionsort.php)"
   ]
  },
  {
   "cell_type": "code",
   "execution_count": 1,
   "metadata": {},
   "outputs": [],
   "source": [
    "def selection_sort(my_list):\n",
    "    for i in range(len(my_list) -1):\n",
    "        min_index = i \n",
    "        \n",
    "        for j in range(i + 1, len(my_list)):\n",
    "            if my_list[j] < my_list[min_index]:\n",
    "                min_index = j \n",
    "        if i != min_index:\n",
    "            temp = my_list[i]\n",
    "            my_list[i] = my_list[min_index]\n",
    "            my_list[min_index] = temp \n",
    "            \n",
    "    return my_list"
   ]
  },
  {
   "cell_type": "code",
   "execution_count": 2,
   "metadata": {},
   "outputs": [
    {
     "data": {
      "text/plain": [
       "[1, 2, 3, 4, 5, 6]"
      ]
     },
     "execution_count": 2,
     "metadata": {},
     "output_type": "execute_result"
    }
   ],
   "source": [
    "selection_sort([4,2,6,5,1,3])"
   ]
  },
  {
   "cell_type": "code",
   "execution_count": null,
   "metadata": {},
   "outputs": [],
   "source": []
  }
 ],
 "metadata": {
  "kernelspec": {
   "display_name": "Python 3",
   "language": "python",
   "name": "python3"
  },
  "language_info": {
   "codemirror_mode": {
    "name": "ipython",
    "version": 3
   },
   "file_extension": ".py",
   "mimetype": "text/x-python",
   "name": "python",
   "nbconvert_exporter": "python",
   "pygments_lexer": "ipython3",
   "version": "3.11.1"
  }
 },
 "nbformat": 4,
 "nbformat_minor": 2
}
