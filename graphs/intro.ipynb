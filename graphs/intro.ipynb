{
 "cells": [
  {
   "cell_type": "markdown",
   "metadata": {},
   "source": [
    "### Graph\n",
    "\n",
    "is a non-linear data structure that consists of vertices (nodes) and edges."
   ]
  },
  {
   "cell_type": "markdown",
   "metadata": {
    "vscode": {
     "languageId": "plaintext"
    }
   },
   "source": [
    "#### Some terms\n",
    "\n",
    "- **vertex**: also called a node, is a point or an object in the Graph\n",
    "\n",
    "- **Edge**: is used to connect two vertices with each other.\n",
    "\n",
    "- **Weighted Graph** is a Graph where the edges have values.\n",
    "\n",
    "- **Connected Graph**: is when all the vertices are connected through edges somehow.\n"
   ]
  },
  {
   "cell_type": "markdown",
   "metadata": {
    "vscode": {
     "languageId": "plaintext"
    }
   },
   "source": [
    "### Graph Representations\n",
    "\n",
    "- Adjacency matrix: is a 2D array (matrix) used to represent a graph.Each cell in the matrix represents a connection between two vertices\n",
    "\n",
    "|   | A | B | C | D | E |\n",
    "|---|---|---|---|---|---|\n",
    "| A | 0 | 1 | 0 | 0 | 1 |\n",
    "| B | 1 | 0 | 1 | 0 | 0 |\n",
    "| C | 0 | 1 | 0 | 1 | 0 |\n",
    "| D | 0 | 0 | 1 | 0 | 1 |\n",
    "| E | 1 | 0 | 0 | 1 | 0 |\n",
    "\n",
    "\n",
    "\n",
    "- An adjacency list is a collection of lists or arrays used to represent a graph. Each vertex in the graph is associated with a list of its neighboring vertices.\n",
    "\n",
    "```\n",
    "graph = {\n",
    "    \"A\": [\"B\", \"E\"],\n",
    "    \"B\": [\"A\", \"C\"],\n",
    "    \"C\": [\"B\", \"D\"],\n",
    "    \"D\": [\"C\", \"E\"],\n",
    "    \"E\": [\"A\", \"D\"]\n",
    "}\n",
    "\n",
    "\n",
    "```\n",
    "\n",
    "The graph representations above mean:\n",
    "\n",
    "- There is a connection from A to B and E.\n",
    "- There is a connection from B to A and C.\n",
    "- There is a connection from C to B and D.\n",
    "- There is a connection from D to C and E.\n",
    "- There is a connection from E to A and D."
   ]
  },
  {
   "cell_type": "code",
   "execution_count": null,
   "metadata": {},
   "outputs": [],
   "source": []
  },
  {
   "cell_type": "markdown",
   "metadata": {
    "vscode": {
     "languageId": "plaintext"
    }
   },
   "source": [
    "### Big O\n",
    "\n",
    "V - Vertex\n",
    "\n",
    "E - Edge\n",
    "\n",
    "#### Space complexity \n",
    "\n",
    "- Adjacency Matrix is O(|V|^2)\n",
    "- Adjacency List is O(|V| + |E|)\n",
    "\n",
    "#### Adding a vertex \n",
    "\n",
    "- Adjacency Matrix is O(|V|^2)\n",
    "- Adjacency List  is O(1)\n",
    "\n",
    "#### Adding an edge\n",
    "\n",
    "- Adjacency Matrix is O(1)\n",
    "- Adjacency List  is O(1)\n",
    "\n",
    "\n",
    "#### Removing an edge\n",
    "\n",
    "- Adjacency Matrix is O(1)\n",
    "- Adjacency List  is O(|E|)\n",
    "\n",
    "#### Removing a Vertex \n",
    "\n",
    "- Adjacency Matrix is O(|V|^2)\n",
    "- Adjacency List is O(|V| + |E|)"
   ]
  },
  {
   "cell_type": "markdown",
   "metadata": {},
   "source": []
  },
  {
   "cell_type": "markdown",
   "metadata": {
    "vscode": {
     "languageId": "plaintext"
    }
   },
   "source": [
    "### Use Case\n",
    "\n",
    "- Social Networks: Each person is a vertex, and relationships (like friendships) are the edges. Algorithms can suggest potential friends.\n",
    "\n",
    "- Maps and Navigation: Locations, like a town or bus stops, are stored as vertices, and roads are stored as edges. Algorithms can find the shortest route between two locations when stored as a Graph.\n"
   ]
  },
  {
   "cell_type": "markdown",
   "metadata": {},
   "source": []
  },
  {
   "cell_type": "code",
   "execution_count": 60,
   "metadata": {},
   "outputs": [],
   "source": [
    "class Graph:\n",
    "    def __init__(self):\n",
    "        self.adj_list = {}\n",
    "\n",
    "    def print_graph(self):\n",
    "        for vertex in self.adj_list:\n",
    "            print(vertex, ':', self.adj_list[vertex])\n",
    "\n",
    "    def add_vertex(self, vertex):\n",
    "        if vertex not in self.adj_list.keys():\n",
    "            self.adj_list[vertex] = []\n",
    "            return True\n",
    "        return False\n",
    "\n",
    "    def add_edge(self, v1, v2):\n",
    "        if v1 in self.adj_list.keys() and v2 in self.adj_list.keys():\n",
    "            self.adj_list[v1].append(v2)\n",
    "            self.adj_list[v2].append(v1)\n",
    "            return True\n",
    "        return False\n",
    "\n",
    "    def remove_edge(self, v1, v2):\n",
    "        if v1 in self.adj_list.keys() and v2 in self.adj_list.keys(): \n",
    "            try:\n",
    "                self.adj_list[v1].remove(v2)\n",
    "                self.adj_list[v2].remove(v1)\n",
    "            except ValueError:\n",
    "                pass\n",
    "            return True\n",
    "        return False\n",
    "\n",
    "    def remove_vertex(self, vertex):\n",
    "        if vertex in self.adj_list.keys():\n",
    "            for other_vertex in self.adj_list[vertex]:\n",
    "                self.adj_list[other_vertex].remove(vertex)\n",
    "            del self.adj_list[vertex]\n",
    "            return True\n",
    "        return False        \n"
   ]
  },
  {
   "cell_type": "code",
   "execution_count": 61,
   "metadata": {},
   "outputs": [
    {
     "data": {
      "text/plain": [
       "True"
      ]
     },
     "execution_count": 61,
     "metadata": {},
     "output_type": "execute_result"
    }
   ],
   "source": [
    "my_graph = Graph()\n",
    "my_graph.add_vertex('A')\n",
    "my_graph.add_vertex('B')\n",
    "my_graph.add_vertex('C')\n",
    "my_graph.add_vertex('D')"
   ]
  },
  {
   "cell_type": "code",
   "execution_count": 62,
   "metadata": {},
   "outputs": [
    {
     "data": {
      "text/plain": [
       "True"
      ]
     },
     "execution_count": 62,
     "metadata": {},
     "output_type": "execute_result"
    }
   ],
   "source": [
    "my_graph.add_edge('A','B')\n",
    "my_graph.add_edge('A','C')\n",
    "my_graph.add_edge('A','D')\n",
    "my_graph.add_edge('B','D')\n",
    "my_graph.add_edge('C','D')"
   ]
  },
  {
   "cell_type": "code",
   "execution_count": 63,
   "metadata": {},
   "outputs": [
    {
     "name": "stdout",
     "output_type": "stream",
     "text": [
      "Graph before remove_vertex():\n",
      "A : ['B', 'C', 'D']\n",
      "B : ['A', 'D']\n",
      "C : ['A', 'D']\n",
      "D : ['A', 'B', 'C']\n"
     ]
    }
   ],
   "source": [
    "print('Graph before remove_vertex():')\n",
    "my_graph.print_graph()"
   ]
  },
  {
   "cell_type": "code",
   "execution_count": 64,
   "metadata": {},
   "outputs": [
    {
     "data": {
      "text/plain": [
       "True"
      ]
     },
     "execution_count": 64,
     "metadata": {},
     "output_type": "execute_result"
    }
   ],
   "source": [
    "my_graph.remove_vertex('D')\n"
   ]
  },
  {
   "cell_type": "code",
   "execution_count": 65,
   "metadata": {},
   "outputs": [
    {
     "name": "stdout",
     "output_type": "stream",
     "text": [
      "\n",
      "Graph after remove_vertex():\n",
      "A : ['B', 'C']\n",
      "B : ['A']\n",
      "C : ['A']\n"
     ]
    }
   ],
   "source": [
    "print('\\nGraph after remove_vertex():')\n",
    "my_graph.print_graph()"
   ]
  }
 ],
 "metadata": {
  "kernelspec": {
   "display_name": "Python 3",
   "language": "python",
   "name": "python3"
  },
  "language_info": {
   "codemirror_mode": {
    "name": "ipython",
    "version": 3
   },
   "file_extension": ".py",
   "mimetype": "text/x-python",
   "name": "python",
   "nbconvert_exporter": "python",
   "pygments_lexer": "ipython3",
   "version": "3.11.1"
  }
 },
 "nbformat": 4,
 "nbformat_minor": 2
}
