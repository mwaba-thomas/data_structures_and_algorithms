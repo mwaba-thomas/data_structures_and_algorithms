{
 "cells": [
  {
   "cell_type": "markdown",
   "metadata": {},
   "source": [
    "### HT: Item In Common ( ** Interview Question)\n",
    "\n",
    "Write a function **item_in_common(list1, list2**) that takes two lists as input and returns **True** if there is at least one common item between the two lists, **False** otherwise.\n",
    "\n",
    "Use a dictionary to solve the problem that creates an **O(n)** time complexity."
   ]
  },
  {
   "cell_type": "code",
   "execution_count": 17,
   "metadata": {},
   "outputs": [],
   "source": [
    "def item_in_common(list1, list2):\n",
    "    # create an empty dictionary to store list1's values\n",
    "    my_dict = {}\n",
    " \n",
    "    # iterate through list1 and add each value to the dictionary as a key\n",
    "    for i in list1:\n",
    "        my_dict[i] = True\n",
    " \n",
    "    # iterate through list2 and check if each value is a key in the dictionary\n",
    "    for j in list2:\n",
    "        # if a value in list2 is also in the dictionary, return True\n",
    "        if j in my_dict:\n",
    "            return True\n",
    " \n",
    "    # if no values in common are found, return False\n",
    "    return False"
   ]
  },
  {
   "cell_type": "code",
   "execution_count": 18,
   "metadata": {},
   "outputs": [
    {
     "data": {
      "text/plain": [
       "True"
      ]
     },
     "execution_count": 18,
     "metadata": {},
     "output_type": "execute_result"
    }
   ],
   "source": [
    "item_in_common(list1=[1,3,5],list2 = [2,4,5])"
   ]
  },
  {
   "cell_type": "code",
   "execution_count": null,
   "metadata": {},
   "outputs": [],
   "source": []
  },
  {
   "cell_type": "markdown",
   "metadata": {},
   "source": [
    "### HT: Find Duplicates ( ** Interview Question)\n",
    "\n",
    "**find_duplicates()**\n",
    "\n",
    "\n",
    "**Problem:** Given an array of integers **nums**, find all the duplicates in the array using a hash table (dictionary).\n",
    "\n",
    "\n",
    "Input:\n",
    "\n",
    "A list of integers nums.\n",
    "\n",
    "\n",
    "Output:\n",
    "\n",
    "A list of integers representing the numbers in the input array nums that appear more than once. If no duplicates are found in the input array, return an empty list [].\n",
    "\n",
    "\n",
    "**Input:** nums = [4, 3, 2, 7, 8, 2, 3, 1]\n",
    "\n",
    "\n",
    "**Output:** [2, 3]\n",
    "\n",
    "**Explanation:** The numbers 2 and 3 appear more than once in the input array."
   ]
  },
  {
   "cell_type": "code",
   "execution_count": 19,
   "metadata": {},
   "outputs": [],
   "source": [
    "def find_duplicates(nums):\n",
    "    dict = {}\n",
    "    output = []\n",
    "    for num in nums:\n",
    "        if num not in dict:\n",
    "            dict[num] = True\n",
    "        else:\n",
    "            if num not in output:\n",
    "                output.append(num)\n",
    "    return output"
   ]
  },
  {
   "cell_type": "code",
   "execution_count": 20,
   "metadata": {},
   "outputs": [],
   "source": [
    "def find_duplicates2(nums):\n",
    "    # Create an empty dictionary named 'num_counts'.\n",
    "    # This will be used to keep track of the frequency of each number\n",
    "    # in the 'nums' list.\n",
    "    num_counts = {}\n",
    " \n",
    "    # Start a loop that iterates over each number in the 'nums' list.\n",
    "    for num in nums:\n",
    "        # For the current number 'num', update its count in the 'num_counts'\n",
    "        # dictionary. If 'num' is not already in the dictionary, get(num, 0)\n",
    "        # will return 0. Then, 1 is added to this value, effectively\n",
    "        # initializing the count to 1 the first time 'num' is encountered.\n",
    "        # If 'num' is already in the dictionary, its count is incremented by 1.\n",
    "        num_counts[num] = num_counts.get(num, 0) + 1\n",
    " \n",
    "    # Initialize an empty list called 'duplicates'.\n",
    "    # This list will store all the numbers that appear more than once in 'nums'.\n",
    "    duplicates = []\n",
    " \n",
    "    # Iterate over each key-value pair in the 'num_counts' dictionary.\n",
    "    # 'num' is the number from the list, and 'count' is its frequency.\n",
    "    for num, count in num_counts.items():\n",
    "        # Check if the count of the current number is greater than 1.\n",
    "        # A count greater than 1 indicates that the number is a duplicate.\n",
    "        if count > 1:\n",
    "            # If the current number is a duplicate, append it to the\n",
    "            # 'duplicates' list.\n",
    "            duplicates.append(num)\n",
    " \n",
    "    # After the loop, return the 'duplicates' list, which now contains\n",
    "    # all numbers that were found more than once in the input list 'nums'.\n",
    "    return duplicates"
   ]
  },
  {
   "cell_type": "code",
   "execution_count": 21,
   "metadata": {},
   "outputs": [],
   "source": [
    "word = 'hello'\n",
    "\n",
    "word_count = {}\n",
    "\n",
    "for letter in word:\n",
    "    word_count[letter] = word_count.get(letter,0) + 1\n",
    "    \n",
    "# for letter, count in "
   ]
  },
  {
   "cell_type": "code",
   "execution_count": 22,
   "metadata": {},
   "outputs": [
    {
     "data": {
      "text/plain": [
       "{'h': 1, 'e': 1, 'l': 2, 'o': 1}"
      ]
     },
     "execution_count": 22,
     "metadata": {},
     "output_type": "execute_result"
    }
   ],
   "source": [
    "word_count"
   ]
  },
  {
   "cell_type": "code",
   "execution_count": 23,
   "metadata": {},
   "outputs": [],
   "source": [
    "none_duplicants = []\n",
    "for letter, count in word_count.items():\n",
    "    if count < 2:\n",
    "        none_duplicants.append(letter)\n",
    "        "
   ]
  },
  {
   "cell_type": "code",
   "execution_count": 24,
   "metadata": {},
   "outputs": [
    {
     "data": {
      "text/plain": [
       "'h'"
      ]
     },
     "execution_count": 24,
     "metadata": {},
     "output_type": "execute_result"
    }
   ],
   "source": [
    "none_duplicants[0]"
   ]
  },
  {
   "cell_type": "code",
   "execution_count": 1,
   "metadata": {},
   "outputs": [],
   "source": [
    "def find_duplicates3(nums):\n",
    "    h = {}\n",
    "    for num in nums:\n",
    "        # If 'num' is already in the dictionary, its count is incremented by 1.\n",
    "         h[num] = h.get(num,0) + 1\n",
    "    duplicates = []\n",
    "    \n",
    "    for num in h:\n",
    "        if h[num] > 1:\n",
    "            duplicates.append(num)\n",
    "            \n",
    "    return duplicates"
   ]
  },
  {
   "cell_type": "code",
   "execution_count": 2,
   "metadata": {},
   "outputs": [
    {
     "data": {
      "text/plain": [
       "[3, 2]"
      ]
     },
     "execution_count": 2,
     "metadata": {},
     "output_type": "execute_result"
    }
   ],
   "source": [
    "find_duplicates3(nums=[4, 3, 2, 7, 8, 2, 3, 1])"
   ]
  },
  {
   "cell_type": "code",
   "execution_count": null,
   "metadata": {},
   "outputs": [],
   "source": []
  },
  {
   "cell_type": "markdown",
   "metadata": {},
   "source": [
    "### HT: First Non-Repeating Character ( ** Interview Question)\n",
    "\n",
    "You have been given a string of lowercase letters.\n",
    "\n",
    "Write a function called **first_non_repeating_char(string)** that finds the first non-repeating character in the given string using a hash table (dictionary). If there is no non-repeating character in the string, the function should return None.\n",
    "\n",
    "For example, if the input string is \"leetcode\", the function should return \"l\" because \"l\" is the first character that appears only once in the string. Similarly, if the input string is \"hello\", the function should return \"h\" because \"h\" is the first non-repeating character in the string."
   ]
  },
  {
   "cell_type": "code",
   "execution_count": 3,
   "metadata": {},
   "outputs": [],
   "source": [
    "def first_non_repeating_char(string):\n",
    "    # create an empty hash table to count the frequency of each character\n",
    "    char_counts = {}\n",
    "    # count the frequency of each character in the string\n",
    "    for char in string:\n",
    "        # this increments the count by 1 in the dictionary\n",
    "        char_counts[char] = char_counts.get(char, 0) + 1\n",
    "    # find the first non-repeating character in the string\n",
    "    for char in string:\n",
    "        if char_counts[char] == 1:\n",
    "            return char\n",
    "    # return None if no non-repeating character is found\n",
    "    return None \n",
    "\n",
    "## It has a time complexity of O(n), where n is the length of the input string."
   ]
  },
  {
   "cell_type": "code",
   "execution_count": 4,
   "metadata": {},
   "outputs": [],
   "source": [
    "first_non_repeating_char('aabbcc')"
   ]
  },
  {
   "cell_type": "code",
   "execution_count": 5,
   "metadata": {},
   "outputs": [
    {
     "data": {
      "text/plain": [
       "'b'"
      ]
     },
     "execution_count": 5,
     "metadata": {},
     "output_type": "execute_result"
    }
   ],
   "source": [
    "first_non_repeating_char('bee')"
   ]
  },
  {
   "cell_type": "code",
   "execution_count": null,
   "metadata": {},
   "outputs": [],
   "source": []
  },
  {
   "cell_type": "markdown",
   "metadata": {},
   "source": [
    "### HT: Group Anagrams ( ** Interview Question)\n",
    "\n",
    "You have been given an array of strings, where each string may contain only lowercase English letters. You need to write a function group_anagrams(strings) that groups the anagrams in the array together using a hash table (dictionary). The function should return a list of lists, where each inner list contains a group of anagrams."
   ]
  },
  {
   "cell_type": "code",
   "execution_count": 27,
   "metadata": {},
   "outputs": [],
   "source": [
    "def group_anagrams(strings):\n",
    "    # create an empty hash table\n",
    "    anagram_groups = {}\n",
    " \n",
    "    # iterate through each string in the array\n",
    "    for string in strings:\n",
    "        # sort each string to get its canonical form\n",
    "        # sorted('eat') returns ['a', 'e', 't']\n",
    "        # ''.join(['a', 'e', 't']) coverts the array of chars to 'aet' string\n",
    "        canonical = ''.join(sorted(string))\n",
    " \n",
    "        # check to see if the canonical form of the string exists in the hash table\n",
    "        if canonical in anagram_groups:\n",
    "            # if it does then add the string there\n",
    "            anagram_groups[canonical].append(string)\n",
    "        else:\n",
    "            # otherwise create new canonical form and add the string there\n",
    "            anagram_groups[canonical] = [string]\n",
    " \n",
    "    # convert the hash table to a list of lists\n",
    "    return list(anagram_groups.values())"
   ]
  },
  {
   "cell_type": "code",
   "execution_count": null,
   "metadata": {},
   "outputs": [],
   "source": []
  },
  {
   "cell_type": "code",
   "execution_count": null,
   "metadata": {},
   "outputs": [],
   "source": []
  },
  {
   "cell_type": "markdown",
   "metadata": {},
   "source": [
    "### HT: Two Sum ( ** Interview Question)\n",
    "\n",
    "**two_sum()**\n",
    "\n",
    "**Problem:**\n",
    "Given an array of integers **nums** and a **target** integer **target**, find the indices of two numbers in the array that add up to the target.\n",
    "\n",
    "The main challenge here is to implement this function in one pass through the array. This means you should not iterate over the array more than once. Therefore, your solution should have a time complexity of **O(n)**, where n is the number of elements in nums.\n",
    "\n",
    "\n",
    "\n",
    "**Input:**\n",
    "\n",
    "A list of integers **nums** .\n",
    "\n",
    "A target integer **target**.\n",
    "\n",
    "\n",
    "\n",
    "**Output:**\n",
    "\n",
    "A list of two integers representing the indices of the two numbers in the input array **nums** that add up to the target. If no two numbers in the input array add up to the target, return an empty list [].\n",
    "\n",
    "\n",
    "**Input: nums** = [5, 1, 7, 2, 9, 3], **target** = 10\n",
    "\n",
    "\n",
    "**Output:** [1, 4]\n",
    "\n",
    "\n",
    "**Explanation:** The numbers at indices 1 and 4 in the array add up to the **target** 10."
   ]
  },
  {
   "cell_type": "code",
   "execution_count": 28,
   "metadata": {},
   "outputs": [],
   "source": [
    "def two_sum(nums, target):\n",
    "    # create an empty hash table\n",
    "    num_map = {}\n",
    " \n",
    "    # iterate through each number in the array\n",
    "    for i, num in enumerate(nums):\n",
    "        # calculate the complement of the current number\n",
    "        complement = target - num\n",
    " \n",
    "        # check if the complement is in the hash table\n",
    "        if complement in num_map:\n",
    "            # if it is, return the indices of the two numbers\n",
    "            return [num_map[complement], i]\n",
    " \n",
    "        # add the current number and its index to the hash table\n",
    "        num_map[num] = i\n",
    " \n",
    "    # if no two numbers add up to the target, return an empty list\n",
    "    return []"
   ]
  },
  {
   "cell_type": "code",
   "execution_count": null,
   "metadata": {},
   "outputs": [],
   "source": []
  },
  {
   "cell_type": "code",
   "execution_count": 29,
   "metadata": {},
   "outputs": [],
   "source": [
    "def two_sum2(nums,target):\n",
    "    \n",
    "    HashMap = {}\n",
    "    \n",
    "    for i in range(len(nums)):\n",
    "        \n",
    "        HashMap[nums[i]] = i \n",
    "        \n",
    "    for i in range(len(nums)):\n",
    "        \n",
    "        y = target - nums[i]\n",
    "        \n",
    "        if y in HashMap and HashMap[y] != i:\n",
    "            return [i, y[i]]"
   ]
  },
  {
   "cell_type": "code",
   "execution_count": 30,
   "metadata": {},
   "outputs": [
    {
     "data": {
      "text/plain": [
       "[]"
      ]
     },
     "execution_count": 30,
     "metadata": {},
     "output_type": "execute_result"
    }
   ],
   "source": [
    "two_sum([1,2,3,4,5],10)"
   ]
  },
  {
   "cell_type": "code",
   "execution_count": null,
   "metadata": {},
   "outputs": [],
   "source": []
  }
 ],
 "metadata": {
  "kernelspec": {
   "display_name": "Python 3",
   "language": "python",
   "name": "python3"
  },
  "language_info": {
   "codemirror_mode": {
    "name": "ipython",
    "version": 3
   },
   "file_extension": ".py",
   "mimetype": "text/x-python",
   "name": "python",
   "nbconvert_exporter": "python",
   "pygments_lexer": "ipython3",
   "version": "3.11.1"
  }
 },
 "nbformat": 4,
 "nbformat_minor": 2
}
