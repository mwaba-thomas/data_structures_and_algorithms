{
 "cells": [
  {
   "cell_type": "markdown",
   "metadata": {},
   "source": [
    "### QHEAP1\n",
    "\n",
    "[hackerrank QHEAP1 Question](https://www.hackerrank.com/challenges/qheap1/problem?isFullScreen=true)"
   ]
  },
  {
   "cell_type": "code",
   "execution_count": null,
   "metadata": {},
   "outputs": [],
   "source": []
  },
  {
   "cell_type": "code",
   "execution_count": null,
   "metadata": {},
   "outputs": [],
   "source": []
  },
  {
   "cell_type": "code",
   "execution_count": null,
   "metadata": {},
   "outputs": [],
   "source": [
    "# Enter your code here. Read input from STDIN. Print output to STDOUT\n",
    "\n",
    "from heapq import heappush, heappop\n",
    "\n",
    "heap = []\n",
    "lookup = set()\n",
    "\n",
    "#prompts the user to enter an integer\n",
    "# which determines the number of test cases\n",
    "for i in range(int(input())):\n",
    "    t = list(map(int,input().split()))\n",
    "    \n",
    "    # insert\n",
    "    if t[0] == 1:\n",
    "        heappush(heap,t[1])\n",
    "        lookup.add(t[1])\n",
    "    # delete from the lookup\n",
    "    # is more optimum than from the heap\n",
    "    elif t[0] == 2:\n",
    "        lookup.discard(t[1])\n",
    "    # print the minimum element \n",
    "    else:\n",
    "        # the current minimum in the heap\n",
    "        # is not in loopup\n",
    "        # remove it from the heap\n",
    "        while heap[0] not in lookup:\n",
    "            heappop(heap) \n",
    "        print(heap[0])"
   ]
  },
  {
   "cell_type": "code",
   "execution_count": null,
   "metadata": {},
   "outputs": [],
   "source": []
  },
  {
   "cell_type": "markdown",
   "metadata": {},
   "source": [
    "### Jesse and Cookies\n",
    "\n",
    "[hackerrank Jesse and Cookies Question](https://www.hackerrank.com/challenges/jesse-and-cookies/problem?isFullScreen=true)"
   ]
  },
  {
   "cell_type": "code",
   "execution_count": 4,
   "metadata": {},
   "outputs": [],
   "source": [
    "from heapq import heapify, heappop, heappush\n",
    "\n",
    "def cookies(k, A):\n",
    "    # Write your code here\n",
    "    heapify(A)\n",
    "    # steps\n",
    "    result = 0\n",
    "    \n",
    "    while True:\n",
    "        x = heappop(A) \n",
    "        # if the minimum is greater\n",
    "        # than k \n",
    "        if x >= k:\n",
    "            return result \n",
    "        # if A has elements    \n",
    "        if A:\n",
    "            # remove the second item\n",
    "            y = heappop(A)\n",
    "            # calculate new sweetness\n",
    "            s = x + 2 * y\n",
    "            # add the new sweetness to\n",
    "            # the heap\n",
    "            heappush(A,s)\n",
    "            # increase the number of steps \n",
    "            result += 1 \n",
    "        else:\n",
    "            # if there are no elements in the heap\n",
    "            return -1"
   ]
  },
  {
   "cell_type": "code",
   "execution_count": 5,
   "metadata": {},
   "outputs": [
    {
     "data": {
      "text/plain": [
       "'The number of operations : 2'"
      ]
     },
     "execution_count": 5,
     "metadata": {},
     "output_type": "execute_result"
    }
   ],
   "source": [
    "f'The number of operations : {cookies(k=7,A=[1,2,3,9,10,12])}'"
   ]
  },
  {
   "cell_type": "code",
   "execution_count": null,
   "metadata": {},
   "outputs": [],
   "source": []
  }
 ],
 "metadata": {
  "kernelspec": {
   "display_name": "Python 3",
   "language": "python",
   "name": "python3"
  },
  "language_info": {
   "codemirror_mode": {
    "name": "ipython",
    "version": 3
   },
   "file_extension": ".py",
   "mimetype": "text/x-python",
   "name": "python",
   "nbconvert_exporter": "python",
   "pygments_lexer": "ipython3",
   "version": "3.11.1"
  }
 },
 "nbformat": 4,
 "nbformat_minor": 2
}
