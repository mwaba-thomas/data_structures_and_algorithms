{
 "cells": [
  {
   "cell_type": "markdown",
   "metadata": {},
   "source": [
    "### What is Heap Data Structure?\n",
    "\n",
    "A heap is a binary tree-based data structure that follows the heap property.Heaps are useful when you need to remove the item with the highest (or lowest) value.\n",
    "\n",
    "#### Heap Property\n",
    "\n",
    "* **max-heap**: the value of each item is less than or equal to the value of its parent, with the maximum-value item at the root.\n",
    "\n",
    "* **min-heap**: the value of each item is greater than or equal to the value of its parent, with the minimum-value item at the root.\n",
    "\n",
    "* **Inserting** and **Removing** an item from a heap is **O(log(n))**"
   ]
  },
  {
   "cell_type": "code",
   "execution_count": null,
   "metadata": {},
   "outputs": [],
   "source": []
  },
  {
   "cell_type": "code",
   "execution_count": null,
   "metadata": {},
   "outputs": [],
   "source": [
    "class MaxHeap:\n",
    "    \n",
    "    def __init__(self):\n",
    "        self.heap = []\n",
    "    def _left_child(self,index):\n",
    "        return 2 * index + 1 \n",
    "    \n",
    "    def _right_child(self,index):\n",
    "        return 2 * index + 2\n",
    "    \n",
    "    def _parent(self,index):\n",
    "        return (index - 1) // 2 \n",
    "    \n",
    "    def _swap(self,index1, index2):\n",
    "        self.heap[index1], self.heap[index2] = self.heap[index2], self.heap[index1]\n",
    "        \n",
    "    def insert(self,value):\n",
    "        self.heap.append(value)\n",
    "        current = len(self.heap) - 1 \n",
    "        while current > 0 and self.heap[current] > self.heap[self._parent(current)]:\n",
    "            self._swap(current, self._parent(current))\n",
    "            current = self._parent(current)\n",
    "            \n",
    "    def _sink_down(self,index):\n",
    "        max_index = index \n",
    "        while True:\n",
    "            left_index = self._left_child(index)\n",
    "            right_index = self._right_child(index)\n",
    "            \n",
    "            # checks if there is a left child and if the left child is greater than the parent \n",
    "            if (left_index < len(self.heap) and self.heap[left_index] > self.heap[max_index]):\n",
    "                max_index = left_index\n",
    "            # checks if there is a right child and if the right child is greater than the parent    \n",
    "            if (right_index < len(self.heap) and self.heap[right_index] > self.heap[max_index]):\n",
    "                max_index = right_index\n",
    "                \n",
    "            if max_index != index:\n",
    "                self._swap(index, max_index)\n",
    "                index = max_index\n",
    "            else:\n",
    "                # The max_index is equal to the current_index \n",
    "                return\n",
    "            \n",
    "            \n",
    "    def remove(self):\n",
    "        if len(self.heap) == 0:\n",
    "            return None \n",
    "        \n",
    "        if len(self.heap) == 1:\n",
    "            return self.heap.pop()\n",
    "        \n",
    "        max_value = self.heap[0]\n",
    "        # pop the max value and replace it with the last value in the heap\n",
    "        self.heap[0] = self.heap.pop()\n",
    "        self._sink_down(0)\n",
    "        \n",
    "        return max_value\n",
    "            \n",
    "    \n",
    "            \n",
    "    \n",
    "            "
   ]
  },
  {
   "cell_type": "code",
   "execution_count": 2,
   "metadata": {},
   "outputs": [],
   "source": [
    "myheap = MaxHeap()\n",
    "myheap.insert(99)\n",
    "myheap.insert(75)\n",
    "myheap.insert(80)\n",
    "myheap.insert(55)\n",
    "myheap.insert(60)\n",
    "myheap.insert(50)\n",
    "myheap.insert(65)\n"
   ]
  },
  {
   "cell_type": "code",
   "execution_count": 3,
   "metadata": {},
   "outputs": [
    {
     "data": {
      "text/plain": [
       "[99, 75, 80, 55, 60, 50, 65]"
      ]
     },
     "execution_count": 3,
     "metadata": {},
     "output_type": "execute_result"
    }
   ],
   "source": [
    "myheap.heap"
   ]
  },
  {
   "cell_type": "code",
   "execution_count": 4,
   "metadata": {},
   "outputs": [
    {
     "data": {
      "text/plain": [
       "99"
      ]
     },
     "execution_count": 4,
     "metadata": {},
     "output_type": "execute_result"
    }
   ],
   "source": [
    "myheap.remove()\n"
   ]
  },
  {
   "cell_type": "code",
   "execution_count": 5,
   "metadata": {},
   "outputs": [
    {
     "data": {
      "text/plain": [
       "[80, 75, 65, 55, 60, 50]"
      ]
     },
     "execution_count": 5,
     "metadata": {},
     "output_type": "execute_result"
    }
   ],
   "source": [
    "myheap.heap"
   ]
  },
  {
   "cell_type": "code",
   "execution_count": 6,
   "metadata": {},
   "outputs": [
    {
     "data": {
      "text/plain": [
       "80"
      ]
     },
     "execution_count": 6,
     "metadata": {},
     "output_type": "execute_result"
    }
   ],
   "source": [
    "myheap.remove()"
   ]
  },
  {
   "cell_type": "code",
   "execution_count": 7,
   "metadata": {},
   "outputs": [
    {
     "data": {
      "text/plain": [
       "[75, 60, 65, 55, 50]"
      ]
     },
     "execution_count": 7,
     "metadata": {},
     "output_type": "execute_result"
    }
   ],
   "source": [
    "myheap.heap"
   ]
  }
 ],
 "metadata": {
  "kernelspec": {
   "display_name": "Python 3",
   "language": "python",
   "name": "python3"
  },
  "language_info": {
   "codemirror_mode": {
    "name": "ipython",
    "version": 3
   },
   "file_extension": ".py",
   "mimetype": "text/x-python",
   "name": "python",
   "nbconvert_exporter": "python",
   "pygments_lexer": "ipython3",
   "version": "3.11.1"
  }
 },
 "nbformat": 4,
 "nbformat_minor": 2
}
