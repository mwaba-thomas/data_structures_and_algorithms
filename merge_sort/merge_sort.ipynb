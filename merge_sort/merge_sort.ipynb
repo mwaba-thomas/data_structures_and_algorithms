{
 "cells": [
  {
   "cell_type": "markdown",
   "metadata": {},
   "source": [
    "### Merge Sort \n",
    "\n",
    "* Breaks lists in half \n",
    "* Base case: when len(the_list) is 1 \n",
    "* Use merge() to put lists together"
   ]
  },
  {
   "cell_type": "code",
   "execution_count": 16,
   "metadata": {},
   "outputs": [],
   "source": [
    "def merge(list1, list2):\n",
    "    combined = []\n",
    "    i = 0 \n",
    "    j = 0\n",
    "    while i < len(list1) and j < len(list2):\n",
    "        if list1[i] < list2[j]:\n",
    "            combined.append(list1[i])\n",
    "            i += 1 \n",
    "        else:\n",
    "            combined.append(list2[j])\n",
    "            j += 1 \n",
    "    while i < len(list1):\n",
    "        combined.append(list1[i])\n",
    "        i += 1 \n",
    "        \n",
    "    while j < len(list2):\n",
    "        combined.append(list2[j])\n",
    "        j += 1 \n",
    "        \n",
    "    return combined"
   ]
  },
  {
   "cell_type": "code",
   "execution_count": 17,
   "metadata": {},
   "outputs": [],
   "source": [
    "def merge_sort(my_list):\n",
    "    if len(my_list) == 1:\n",
    "        return my_list \n",
    "    mid_index = int(len(my_list) / 2)\n",
    "    left = merge_sort(my_list[:mid_index])\n",
    "    right = merge_sort(my_list[mid_index:])\n",
    "    return merge(left, right)"
   ]
  },
  {
   "cell_type": "code",
   "execution_count": 18,
   "metadata": {},
   "outputs": [],
   "source": [
    "original_list = [3,1,4,2]\n",
    "sorted_list = merge_sort(original_list)"
   ]
  },
  {
   "cell_type": "code",
   "execution_count": 19,
   "metadata": {},
   "outputs": [
    {
     "name": "stdout",
     "output_type": "stream",
     "text": [
      "The original list:  [3, 1, 4, 2]\n",
      "The sorted list:  [1, 2, 3, 4]\n"
     ]
    }
   ],
   "source": [
    "print(\"The original list: \", original_list)\n",
    "print(\"The sorted list: \", sorted_list)"
   ]
  },
  {
   "cell_type": "code",
   "execution_count": null,
   "metadata": {},
   "outputs": [],
   "source": []
  }
 ],
 "metadata": {
  "kernelspec": {
   "display_name": "Python 3",
   "language": "python",
   "name": "python3"
  },
  "language_info": {
   "codemirror_mode": {
    "name": "ipython",
    "version": 3
   },
   "file_extension": ".py",
   "mimetype": "text/x-python",
   "name": "python",
   "nbconvert_exporter": "python",
   "pygments_lexer": "ipython3",
   "version": "3.11.1"
  }
 },
 "nbformat": 4,
 "nbformat_minor": 2
}
