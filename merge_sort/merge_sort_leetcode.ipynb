{
 "cells": [
  {
   "cell_type": "markdown",
   "metadata": {},
   "source": [
    "### Merge Two Sorted LL ( ** Interview Question)\n",
    "\n",
    "**Description**\n",
    "\n",
    "The **merge** method takes in another **LinkedList** as an input and merges it with the current **LinkedList**.\n",
    "\n",
    "The elements in both lists are assumed to be in ascending order.\n",
    "\n",
    "Parameters\n",
    "\n",
    "**other_list (LinkedList)**: the other LinkedList to **merge** with the current list\n",
    "\n",
    "\n",
    "\n",
    "**Return Value**\n",
    "\n",
    "This method does not return a value, but it modifies the current LinkedList to contain the **merged** list."
   ]
  },
  {
   "cell_type": "code",
   "execution_count": 1,
   "metadata": {},
   "outputs": [],
   "source": [
    "class Node:\n",
    "    def __init__(self, value):\n",
    "        self.value = value\n",
    "        self.next = None\n",
    "        \n",
    "\n",
    "class LinkedList:\n",
    "    def __init__(self, value):\n",
    "        new_node = Node(value)\n",
    "        self.head = new_node\n",
    "        self.tail = new_node\n",
    "        self.length = 1\n",
    "\n",
    "    def print_list(self):\n",
    "        temp = self.head\n",
    "        while temp is not None:\n",
    "            print(temp.value)\n",
    "            temp = temp.next\n",
    "        \n",
    "    def append(self, value):\n",
    "        new_node = Node(value)\n",
    "        if self.head is None:\n",
    "            self.head = new_node\n",
    "            self.tail = new_node\n",
    "        else:\n",
    "            self.tail.next = new_node\n",
    "            self.tail = new_node\n",
    "        self.length += 1\n",
    "\n",
    "    def merge(self,other_list):\n",
    "        other_head = other_list.head\n",
    "        dummy_node = Node(0)\n",
    "        current = dummy_node\n",
    "        while self.head is not None and other_head is not None:\n",
    "            if self.head.value < other_head.value:\n",
    "                current.next = self.head \n",
    "                self.head = self.head.next \n",
    "            else:\n",
    "                current.next = other_head\n",
    "                other_head = other_head.next\n",
    "            current = current.next \n",
    "        if self.head:\n",
    "            current.next = self.head \n",
    "        else:\n",
    "            current.next = other_head\n",
    "            self.tail = other_list.tail\n",
    "        \n",
    "        self.head = dummy_node.next \n",
    "        self.length += other_list.length"
   ]
  },
  {
   "cell_type": "code",
   "execution_count": null,
   "metadata": {},
   "outputs": [],
   "source": []
  }
 ],
 "metadata": {
  "kernelspec": {
   "display_name": "Python 3",
   "language": "python",
   "name": "python3"
  },
  "language_info": {
   "codemirror_mode": {
    "name": "ipython",
    "version": 3
   },
   "file_extension": ".py",
   "mimetype": "text/x-python",
   "name": "python",
   "nbconvert_exporter": "python",
   "pygments_lexer": "ipython3",
   "version": "3.11.1"
  }
 },
 "nbformat": 4,
 "nbformat_minor": 2
}
