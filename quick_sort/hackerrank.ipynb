{
 "cells": [
  {
   "cell_type": "markdown",
   "metadata": {},
   "source": [
    "[Quicksort 1 - Partition](https://www.hackerrank.com/challenges/quicksort1/problem?isFullScreen=true)"
   ]
  },
  {
   "cell_type": "code",
   "execution_count": 23,
   "metadata": {},
   "outputs": [],
   "source": [
    "def quickSort(arr):\n",
    "    # Write your code here\n",
    "    p = arr[0]\n",
    "    equal = []\n",
    "    left = []\n",
    "    right = []\n",
    "    for i in range(0,len(arr)):\n",
    "        if arr[i] < p:\n",
    "            left.append(arr[i])\n",
    "        elif arr[i] > p:\n",
    "            right.append(arr[i])\n",
    "        else:\n",
    "            equal.append(arr[i])\n",
    "    return left + equal + right"
   ]
  },
  {
   "cell_type": "code",
   "execution_count": 24,
   "metadata": {},
   "outputs": [
    {
     "data": {
      "text/plain": [
       "[3, 2, 4, 5, 7]"
      ]
     },
     "execution_count": 24,
     "metadata": {},
     "output_type": "execute_result"
    }
   ],
   "source": [
    "quickSort([4, 5, 3, 7, 2])"
   ]
  },
  {
   "cell_type": "code",
   "execution_count": 3,
   "metadata": {},
   "outputs": [],
   "source": [
    "def quickSort2(arr):\n",
    "    pivot = arr[0]\n",
    "    i = 0 \n",
    "    j = len(arr) - 1\n",
    "    \n",
    "    while i < j:\n",
    "        while i < j and arr[i] <= pivot:\n",
    "            i += 1 \n",
    "        while arr[j] > pivot:\n",
    "            j -= 1 \n",
    "        if i < j:\n",
    "            arr[i] , arr[j] = arr[j] , arr[i]\n",
    "    arr[0], arr[j] = arr[j], arr[0]\n",
    "    \n",
    "    return arr "
   ]
  },
  {
   "cell_type": "code",
   "execution_count": 4,
   "metadata": {},
   "outputs": [
    {
     "data": {
      "text/plain": [
       "[4, 3, 5, 7, 8]"
      ]
     },
     "execution_count": 4,
     "metadata": {},
     "output_type": "execute_result"
    }
   ],
   "source": [
    "quickSort2([5,7,4,3,8])"
   ]
  },
  {
   "cell_type": "code",
   "execution_count": null,
   "metadata": {},
   "outputs": [],
   "source": []
  }
 ],
 "metadata": {
  "kernelspec": {
   "display_name": "Python 3",
   "language": "python",
   "name": "python3"
  },
  "language_info": {
   "codemirror_mode": {
    "name": "ipython",
    "version": 3
   },
   "file_extension": ".py",
   "mimetype": "text/x-python",
   "name": "python",
   "nbconvert_exporter": "python",
   "pygments_lexer": "ipython3",
   "version": "3.11.1"
  }
 },
 "nbformat": 4,
 "nbformat_minor": 2
}
