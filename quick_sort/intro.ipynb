{
 "cells": [
  {
   "cell_type": "markdown",
   "metadata": {},
   "source": [
    "### Quicksort \n",
    "\n",
    " is a sorting algorithm that is used to sort items in an array.\n",
    "\n",
    " ##### Algorithm\n",
    "\n",
    "1. If there is only one item in the array, or no items, stop because we don't need to sort anything.\n",
    "\n",
    "2. Pick any item in the array, this will now be the pivot point.\n",
    "\n",
    "3. Partition the items. Compare each item to the pivot. If it is smaller than the pivot it should come before the pivot in the array, if it is larger it should come after the pivot. Note that our pivot is now in its sorted position.\n",
    "\n",
    "4. Recursively apply the algorithm to all items left of the pivot (excluding the current pivot)\n",
    "\n",
    "5. Recursively apply the algorithm to all items right of the pivot (excluding the current pivot)\n",
    "\n",
    "[For more information on Quick-Sort: Wikipedia](https://simple.wikipedia.org/wiki/Quicksort)\n",
    "\n",
    "\n",
    "\n",
    "#### Time Complexity\n",
    "\n",
    "| **Case** | **Complexity** |\n",
    "|----------|----------------|\n",
    "| Best Case | O(n * log(n)) |\n",
    "| Average Case | O(n * log(n)) |\n",
    "| Worst Case (If already sorted) | O(n * log(n)) |\n",
    "\n",
    "\n",
    "\n",
    "#### Space Complexity\n",
    "\n",
    "| **Reason** | **Complexity** |\n",
    "|------------|-----------------|\n",
    "| Due to Recursion | O(n * log(n)) |\n"
   ]
  },
  {
   "cell_type": "code",
   "execution_count": 38,
   "metadata": {},
   "outputs": [],
   "source": [
    "def swap(my_list, index1,index2):\n",
    "    temp = my_list[index1]\n",
    "    my_list[index1] = my_list[index2]\n",
    "    my_list[index2] = temp "
   ]
  },
  {
   "cell_type": "code",
   "execution_count": 39,
   "metadata": {},
   "outputs": [],
   "source": [
    "def pivot(my_list,pivot_index,end_index):\n",
    "    swap_index = pivot_index \n",
    "    for i in range(pivot_index + 1,end_index +1):\n",
    "        if my_list[i] < my_list[pivot_index]:\n",
    "            swap_index += 1\n",
    "            swap(my_list,swap_index,i)\n",
    "    swap(my_list,pivot_index,swap_index)\n",
    "    return swap_index"
   ]
  },
  {
   "cell_type": "code",
   "execution_count": 40,
   "metadata": {},
   "outputs": [],
   "source": [
    "def quick_sort_helper(my_list,left,right):\n",
    "    if left < right:\n",
    "        pivot_index = pivot(my_list, left, right)\n",
    "        quick_sort_helper(my_list,left,pivot_index - 1)\n",
    "        quick_sort_helper(my_list,pivot_index + 1,right)\n",
    "    return my_list\n",
    "\n",
    "def quick_sort(my_list):\n",
    "    return quick_sort_helper(my_list,0,len(my_list)-1)"
   ]
  },
  {
   "cell_type": "code",
   "execution_count": 41,
   "metadata": {},
   "outputs": [
    {
     "data": {
      "text/plain": [
       "[1, 2, 3, 4, 5, 6, 7]"
      ]
     },
     "execution_count": 41,
     "metadata": {},
     "output_type": "execute_result"
    }
   ],
   "source": [
    "\n",
    "quick_sort(my_list=[4,6,1,7,3,2,5])"
   ]
  },
  {
   "cell_type": "code",
   "execution_count": null,
   "metadata": {},
   "outputs": [],
   "source": []
  },
  {
   "cell_type": "code",
   "execution_count": null,
   "metadata": {},
   "outputs": [],
   "source": []
  }
 ],
 "metadata": {
  "kernelspec": {
   "display_name": "Python 3",
   "language": "python",
   "name": "python3"
  },
  "language_info": {
   "codemirror_mode": {
    "name": "ipython",
    "version": 3
   },
   "file_extension": ".py",
   "mimetype": "text/x-python",
   "name": "python",
   "nbconvert_exporter": "python",
   "pygments_lexer": "ipython3",
   "version": "3.11.1"
  }
 },
 "nbformat": 4,
 "nbformat_minor": 2
}
