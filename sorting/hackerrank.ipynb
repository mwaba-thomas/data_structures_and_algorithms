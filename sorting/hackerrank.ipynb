{
 "cells": [
  {
   "cell_type": "markdown",
   "metadata": {},
   "source": [
    "[Hackerrank Counting Sort 1  ](https://www.hackerrank.com/challenges/countingsort1/problem?isFullScreen=true)"
   ]
  },
  {
   "cell_type": "code",
   "execution_count": 1,
   "metadata": {},
   "outputs": [],
   "source": [
    "def countingSort(arr):\n",
    "    # Write your code here\n",
    "    count = [0] * 100\n",
    "    for num in arr:\n",
    "        count[num] += 1\n",
    "    return count"
   ]
  },
  {
   "cell_type": "code",
   "execution_count": null,
   "metadata": {},
   "outputs": [],
   "source": []
  },
  {
   "cell_type": "markdown",
   "metadata": {},
   "source": [
    "[Hackerrank Counting Sort 2  ](https://www.hackerrank.com/challenges/countingsort2/problem?isFullScreen=true)"
   ]
  },
  {
   "cell_type": "code",
   "execution_count": 2,
   "metadata": {},
   "outputs": [],
   "source": [
    "def countingSort2(arr):\n",
    "    # Write your code here\n",
    "    count = [0] * (max(arr) + 1)\n",
    "    for num in arr:\n",
    "        count[num] += 1\n",
    "    sortarr = []\n",
    "    for i in range(len(count)):\n",
    "        # continues adding num until it is zero\n",
    "        while count[i] != 0:\n",
    "            count[i] -= 1\n",
    "            sortarr.append(i)\n",
    "    return sortarr"
   ]
  },
  {
   "cell_type": "markdown",
   "metadata": {},
   "source": [
    "\n",
    "[Hackerrank: Intro to Tutorial Challenges  ](https://www.hackerrank.com/challenges/tutorial-intro/problem?isFullScreen=true)\n",
    "\n"
   ]
  },
  {
   "cell_type": "code",
   "execution_count": 3,
   "metadata": {},
   "outputs": [],
   "source": [
    "def introTutorial(V, arr):\n",
    "    # Write your code here\n",
    "    for i, num in enumerate(arr):\n",
    "        if V == num:\n",
    "            return i \n",
    "    return"
   ]
  },
  {
   "cell_type": "code",
   "execution_count": null,
   "metadata": {},
   "outputs": [],
   "source": []
  },
  {
   "cell_type": "markdown",
   "metadata": {},
   "source": [
    "[Hackerrank: Find the Median](https://www.hackerrank.com/challenges/find-the-median/problem?isFullScreen=true)"
   ]
  },
  {
   "cell_type": "code",
   "execution_count": 4,
   "metadata": {},
   "outputs": [],
   "source": [
    "def findMedian(arr):\n",
    "    # Write your code here\n",
    "    sorted_arr = sorted(arr)\n",
    "    mid_index = len(arr) // 2 \n",
    "    return sorted_arr[mid_index]"
   ]
  },
  {
   "cell_type": "code",
   "execution_count": null,
   "metadata": {},
   "outputs": [],
   "source": []
  },
  {
   "cell_type": "markdown",
   "metadata": {},
   "source": [
    "[Hackerrank: Closest Numbers](https://www.hackerrank.com/challenges/closest-numbers/problem?isFullScreen=true)"
   ]
  },
  {
   "cell_type": "code",
   "execution_count": null,
   "metadata": {},
   "outputs": [],
   "source": [
    "def closestNumbers(arr):\n",
    "    arr.sort()\n",
    "    \n",
    "    pairs = []\n",
    "    min_diff = abs(arr[0] - arr[1])\n",
    "    \n",
    "    for i in range(1, len(arr) - 1):\n",
    "        diff = abs(arr[i] - arr[i + 1])\n",
    "        if diff == min_diff:\n",
    "            pairs.extend([arr[i], arr[i + 1]])\n",
    "        elif min_diff > diff:\n",
    "            pairs = [arr[i], arr[i + 1]]\n",
    "            min_diff = diff\n",
    "\n",
    "    return pairs"
   ]
  }
 ],
 "metadata": {
  "kernelspec": {
   "display_name": "Python 3",
   "language": "python",
   "name": "python3"
  },
  "language_info": {
   "codemirror_mode": {
    "name": "ipython",
    "version": 3
   },
   "file_extension": ".py",
   "mimetype": "text/x-python",
   "name": "python",
   "nbconvert_exporter": "python",
   "pygments_lexer": "ipython3",
   "version": "3.11.1"
  }
 },
 "nbformat": 4,
 "nbformat_minor": 2
}
