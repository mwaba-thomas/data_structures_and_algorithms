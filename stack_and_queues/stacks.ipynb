{
 "cells": [
  {
   "cell_type": "markdown",
   "metadata": {},
   "source": [
    "### Push (Eleman Ekleme )\n",
    "\n",
    "- Pushing onto a Stack is O(1).\n",
    "- Eleman ekleme için push(ittirmek) terimi kullanılır.\n",
    "\n",
    "### Eleman Çıkar (pop)\n",
    "\n",
    "- popping from a Stack is O(1)\n",
    "\n",
    "- Eleman çıkarma işlemi için pop(çıkarmak) terimi kullanılır.\n",
    "\n",
    "- Eğer stack boşsa eleman çıkartamayız. Bu yüzünden öncellikle bağlantılı liste yada lise'nin boş olup olmadığını kontrol etmeliyiz."
   ]
  },
  {
   "cell_type": "markdown",
   "metadata": {},
   "source": []
  },
  {
   "cell_type": "code",
   "execution_count": null,
   "metadata": {},
   "outputs": [],
   "source": [
    "class Node:\n",
    "    def __init__(self,value):\n",
    "        self.value = value \n",
    "        self.next = None\n",
    "        \n",
    "class Stack:\n",
    "    def __init__(self, value):\n",
    "        new_node = Node(value)\n",
    "        self.top = new_node \n",
    "        self.height = 1\n",
    "        \n",
    "    def print_stack(self):\n",
    "        \n",
    "        temp= self.top \n",
    "        while temp:\n",
    "            print(temp.value)\n",
    "            temp = temp.next\n",
    "            \n",
    "    def push(self,value):\n",
    "        new_node = Node(value)\n",
    "        \n",
    "        if self.height == 0:\n",
    "            self.top = new_node\n",
    "        \n",
    "        else:\n",
    "            new_node.next = self.top\n",
    "            self.top= new_node\n",
    "        self.height +=1\n",
    "    \n",
    "    def pop(self):\n",
    "        \n",
    "        if self.height == 0:\n",
    "            return None \n",
    "        \n",
    "        temp = self.top\n",
    "        self.top = self.top.next\n",
    "        temp.next = None    \n",
    "        self.height -=1\n",
    "        return temp         \n",
    "    "
   ]
  },
  {
   "cell_type": "code",
   "execution_count": 29,
   "metadata": {},
   "outputs": [],
   "source": [
    "my_stack = Stack(4)\n",
    "my_stack.push(3)\n",
    "my_stack.push(2)\n",
    "my_stack.push(1)"
   ]
  },
  {
   "cell_type": "code",
   "execution_count": 30,
   "metadata": {},
   "outputs": [
    {
     "name": "stdout",
     "output_type": "stream",
     "text": [
      "1\n",
      "2\n",
      "3\n",
      "4\n"
     ]
    }
   ],
   "source": [
    "my_stack.print_stack()"
   ]
  },
  {
   "cell_type": "code",
   "execution_count": 31,
   "metadata": {},
   "outputs": [
    {
     "data": {
      "text/plain": [
       "<__main__.Node at 0x2248edd6b50>"
      ]
     },
     "execution_count": 31,
     "metadata": {},
     "output_type": "execute_result"
    }
   ],
   "source": [
    "my_stack.pop()"
   ]
  },
  {
   "cell_type": "code",
   "execution_count": 32,
   "metadata": {},
   "outputs": [
    {
     "name": "stdout",
     "output_type": "stream",
     "text": [
      "2\n",
      "3\n",
      "4\n"
     ]
    }
   ],
   "source": [
    "my_stack.print_stack()"
   ]
  },
  {
   "cell_type": "code",
   "execution_count": null,
   "metadata": {},
   "outputs": [],
   "source": []
  }
 ],
 "metadata": {
  "kernelspec": {
   "display_name": "Python 3",
   "language": "python",
   "name": "python3"
  },
  "language_info": {
   "codemirror_mode": {
    "name": "ipython",
    "version": 3
   },
   "file_extension": ".py",
   "mimetype": "text/x-python",
   "name": "python",
   "nbconvert_exporter": "python",
   "pygments_lexer": "ipython3",
   "version": "3.11.1"
  }
 },
 "nbformat": 4,
 "nbformat_minor": 2
}
