{
 "cells": [
  {
   "cell_type": "markdown",
   "metadata": {},
   "source": [
    "### 1. Stack: Implement Stack Using a List ( ** Interview Question)\n",
    "\n",
    "In the Stack: Intro video we discussed how stacks are commonly implemented using a list instead of a linked list.\n",
    "\n",
    "Create a constructor for **Class Stack** that implements a new stack with an empty list called **stack_list**."
   ]
  },
  {
   "cell_type": "code",
   "execution_count": null,
   "metadata": {},
   "outputs": [],
   "source": []
  },
  {
   "cell_type": "code",
   "execution_count": 2,
   "metadata": {},
   "outputs": [],
   "source": [
    "class Stack:\n",
    "    \n",
    "    def __init__(self):\n",
    "        \n",
    "        self.stack_list = []"
   ]
  },
  {
   "cell_type": "code",
   "execution_count": null,
   "metadata": {},
   "outputs": [],
   "source": []
  },
  {
   "cell_type": "markdown",
   "metadata": {},
   "source": [
    "### 2. Stack: Push for Stack That Uses List ( ** Interview Question)\n",
    "\n",
    "Add a method to **push** a value onto the Stack implementation that we began in the last Coding Exercise.\n",
    "\n",
    "**Remember:** This Stack implementation uses a list instead of a linked list."
   ]
  },
  {
   "cell_type": "markdown",
   "metadata": {},
   "source": []
  },
  {
   "cell_type": "code",
   "execution_count": 3,
   "metadata": {},
   "outputs": [],
   "source": [
    "class Stack:\n",
    "    \n",
    "    def __init__(self):\n",
    "        self.stack_list = []\n",
    "        \n",
    "    def print_stack(self):\n",
    "        for i in range(len(self.stack_list)-1, -1, -1):\n",
    "            print(self.stack_list[i])\n",
    "\n",
    "\n",
    "    def push(self,value):\n",
    "        \n",
    "        self.stack_list.append(value)\n",
    "    "
   ]
  },
  {
   "cell_type": "code",
   "execution_count": null,
   "metadata": {},
   "outputs": [],
   "source": []
  },
  {
   "cell_type": "markdown",
   "metadata": {},
   "source": [
    "### 3. Stack: Pop for Stack That Uses List ( ** Interview Question)\n",
    "\n",
    "Add a method to **pop** a value from the Stack implementation that we began in the last two Coding Exercises.\n",
    "\n",
    "**Remember:** This Stack implementation uses a list instead of a linked list."
   ]
  },
  {
   "cell_type": "markdown",
   "metadata": {},
   "source": []
  },
  {
   "cell_type": "code",
   "execution_count": 4,
   "metadata": {},
   "outputs": [],
   "source": [
    "class Stack:\n",
    "    def __init__(self):\n",
    "        self.stack_list = []\n",
    "\n",
    "    def print_stack(self):\n",
    "        for i in range(len(self.stack_list)-1, -1, -1):\n",
    "            print(self.stack_list[i])\n",
    "\n",
    "    def is_empty(self):\n",
    "        return len(self.stack_list) == 0\n",
    "\n",
    "    def peek(self):\n",
    "        if self.is_empty():\n",
    "            return None\n",
    "        else:\n",
    "            return self.stack_list[-1]\n",
    "\n",
    "    def size(self):\n",
    "        return len(self.stack_list)\n",
    "\n",
    "    def push(self, value):\n",
    "        self.stack_list.append(value)\n",
    "\n",
    "    def pop(self):\n",
    "        \n",
    "        if self.is_empty():\n",
    "            return None \n",
    "        else:\n",
    "            return self.stack_list.pop()"
   ]
  },
  {
   "cell_type": "code",
   "execution_count": null,
   "metadata": {},
   "outputs": [],
   "source": []
  },
  {
   "cell_type": "markdown",
   "metadata": {},
   "source": [
    "# 4. Stack: Parentheses Balanced ( ** Interview Question)\n",
    "Check to see if a string of parentheses is balanced or not.\n",
    "\n",
    "By \"balanced,\" we mean that for every open parenthesis, there is a matching closing parenthesis in the correct order. For example, the string \"((()))\" has three pairs of balanced parentheses, so it is a balanced string. On the other hand, the string \"(()))\" has an imbalance, as the last two parentheses do not match, so it is not balanced.  Also, the string \")(\" is not balanced because the close parenthesis needs to follow the open parenthesis.\n",
    "\n",
    "Your program should take a string of parentheses as input and return True if it is balanced, or False if it is not. In order to solve this problem, use a Stack data structure.\n",
    "\n",
    "Function name:\n",
    "is_balanced_parentheses\n",
    "\n",
    "Remember: this is not a method within the Stack class, this is a separate function.  Indent all the way to the left."
   ]
  },
  {
   "cell_type": "markdown",
   "metadata": {},
   "source": []
  },
  {
   "cell_type": "code",
   "execution_count": 5,
   "metadata": {},
   "outputs": [],
   "source": [
    "# solution 1 \n",
    "\n",
    "\n",
    "def is_balanced_parentheses(parentheses):\n",
    "    # Create a new stack\n",
    "    stack = Stack()\n",
    " \n",
    "    # Iterate over each character in the string\n",
    "    for p in parentheses:\n",
    "        # If the character is an opening parenthesis, \n",
    "        # push it onto the stack\n",
    "        if p == '(':\n",
    "            stack.push(p)\n",
    "        # If the character is a closing parenthesis, \n",
    "        # pop the top element off the stack\n",
    "        # and check if it matches the opening parenthesis\n",
    "        elif p == ')':\n",
    "            # If the stack is empty or the top element \n",
    "            # is not an opening parenthesis,\n",
    "            # the parentheses are not balanced\n",
    "            if stack.is_empty() or stack.pop() != '(':\n",
    "                return False\n",
    " \n",
    "    # If the stack is empty, the parentheses are balanced\n",
    "    return stack.is_empty()"
   ]
  },
  {
   "cell_type": "code",
   "execution_count": null,
   "metadata": {},
   "outputs": [],
   "source": []
  },
  {
   "cell_type": "code",
   "execution_count": 6,
   "metadata": {},
   "outputs": [],
   "source": [
    "# seolution 2\n",
    "\n",
    "def check_paren(s):\n",
    "    # Define a dictionary to store mappings of opening and closing parentheses\n",
    "    mappings = {\")\": \"(\", \"]\": \"[\", \"}\": \"{\"}\n",
    "    \n",
    "    # Initialize an empty stack to keep track of opening parentheses\n",
    "    stack = []\n",
    "    \n",
    "    # Iterate over each character in the input string\n",
    "    for paren in s:\n",
    "        \n",
    "        # If the character is a closing parenthesis\n",
    "        if paren in mappings:\n",
    "            \n",
    "            # Check if the stack is not empty and the top of the stack is the matching opening parenthesis\n",
    "            if stack and stack[-1] == mappings[paren]:\n",
    "                \n",
    "                # Remove the opening parenthesis from the stack (since it's matched)\n",
    "                stack.pop()\n",
    "            else:\n",
    "                # If not matched, the parentheses are not balanced\n",
    "                return False\n",
    "                \n",
    "        else:\n",
    "            # If the character is an opening parenthesis, add it to the stack\n",
    "            stack.append(paren)\n",
    "    \n",
    "    # If the stack is empty, all parentheses were matched and balanced\n",
    "    return True if not stack else False"
   ]
  },
  {
   "cell_type": "code",
   "execution_count": null,
   "metadata": {},
   "outputs": [],
   "source": []
  },
  {
   "cell_type": "markdown",
   "metadata": {},
   "source": [
    "### 4. Stack: Reverse String ( ** Interview Question)\n",
    "The **reverse_string** function takes a single parameter **string**, which is the string you want to reverse.\n",
    "\n",
    "Return a new string with the letters in reverse order.\n",
    "\n",
    "This will use the Stack class we created in the last three coding exercises:"
   ]
  },
  {
   "cell_type": "code",
   "execution_count": null,
   "metadata": {},
   "outputs": [],
   "source": []
  },
  {
   "cell_type": "code",
   "execution_count": 7,
   "metadata": {},
   "outputs": [],
   "source": [
    "# solution 1\n",
    "\n",
    "def reverse_string(my_string):\n",
    "    # Make an empty list called stack\n",
    "    stack = []\n",
    "\n",
    "    # For each character in my_string\n",
    "    for c in my_string:\n",
    "        # Add the character to the stack\n",
    "        stack.append(c)\n",
    "    \n",
    "    # Reverse the stack\n",
    "    reversed_stack = stack[::-1]\n",
    "    \n",
    "    # Join the characters in reversed_stack to make a new string\n",
    "    result = ''.join(reversed_stack)\n",
    "    \n",
    "    # Return the new string\n",
    "    return result"
   ]
  },
  {
   "cell_type": "code",
   "execution_count": null,
   "metadata": {},
   "outputs": [],
   "source": []
  },
  {
   "cell_type": "code",
   "execution_count": null,
   "metadata": {},
   "outputs": [],
   "source": [
    "reverse_string(my_string=\"hello\")"
   ]
  },
  {
   "cell_type": "code",
   "execution_count": null,
   "metadata": {},
   "outputs": [],
   "source": [
    "# solution 2\n",
    "\n",
    "def reverse_string_2(string):\n",
    "    # create a new stack\n",
    "    stack = Stack() \n",
    "    # create an empty string to store the reversed string       \n",
    "    reversed_string = \"\"   \n",
    " \n",
    "    # push each character in the string onto the stack\n",
    "    for char in string:\n",
    "        stack.push(char)\n",
    " \n",
    "    # pop each character off the stack and append it to the reversed string\n",
    "    while not stack.is_empty():\n",
    "        reversed_string += stack.pop()\n",
    " \n",
    "    # return the reversed string\n",
    "    return reversed_string"
   ]
  },
  {
   "cell_type": "code",
   "execution_count": null,
   "metadata": {},
   "outputs": [],
   "source": []
  },
  {
   "cell_type": "markdown",
   "metadata": {},
   "source": [
    "### 5. Queue Using Stacks: Enqueue ( ** Interview Question)\n",
    "You are given a class **MyQueue** which implements a queue using two stacks. Your task is to implement the enqueue method which should add an element to the back of the queue.\n",
    "\n",
    "To achieve this, you can use the two stacks **stack1** and **stack2**. Initially, all elements are stored in **stack1** and **stack2** is empty. In order to add an element to the back of the queue, you need to first transfer all elements from **stack1** to stack2 using a loop that pops each element from **stack1** and pushes it onto **stack2**.\n",
    "\n",
    "Once all elements have been transferred to **stack2**, push the new element onto **stack1**. Finally, transfer all elements from **stack2** back to stack1 in the same way as before, so that the queue maintains its ordering.\n",
    "\n",
    "Your implementation should satisfy the following constraints:\n",
    "\n",
    "\n",
    "\n",
    "* The method signature should be **def enqueue(self, value)**.\n",
    "\n",
    "* The method should add the element **value** to the back of the queue"
   ]
  },
  {
   "cell_type": "code",
   "execution_count": null,
   "metadata": {},
   "outputs": [],
   "source": []
  },
  {
   "cell_type": "code",
   "execution_count": null,
   "metadata": {},
   "outputs": [],
   "source": [
    "class MyQueue:\n",
    "    def __init__(self):\n",
    "        self.stack1 = []\n",
    "        self.stack2 = []\n",
    "        \n",
    "    \n",
    "    def enqueue(self,value):\n",
    "        \n",
    "        while self.stack1:\n",
    "            temp = self.stack1.pop()\n",
    "            self.stack2.append(temp)\n",
    "        self.stack1.append(value)\n",
    "        \n",
    "        while self.stack2:\n",
    "            temp = self.stack2.pop()\n",
    "            self.stack1.append(temp)\n",
    "\n",
    "    def peek(self):\n",
    "        return self.stack1[-1]\n",
    "\n",
    "    def is_empty(self):\n",
    "        return len(self.stack1) == 0\n",
    "\n",
    "\n",
    "    def enqueue(self, value):\n",
    "        # Transfer all elements from stack1 to stack2\n",
    "        while self.stack1:\n",
    "            self.stack2.append(self.stack1.pop())\n",
    "        \n",
    "        # Add the new element to the bottom of stack1\n",
    "        self.stack1.append(value)\n",
    "        \n",
    "        # Transfer all elements back from stack2 to stack1\n",
    "        while self.stack2:\n",
    "            self.stack1.append(self.stack2.pop())"
   ]
  },
  {
   "cell_type": "code",
   "execution_count": null,
   "metadata": {},
   "outputs": [],
   "source": []
  },
  {
   "cell_type": "markdown",
   "metadata": {},
   "source": [
    "### 6. Queue Using Stacks: Dequeue ( ** Interview Question)\n",
    "You have been tasked with implementing a queue data structure using two stacks in Python, and you need to write the dequeue method.\n",
    "\n",
    "The dequeue method should remove and return the first element in the queue."
   ]
  },
  {
   "cell_type": "code",
   "execution_count": null,
   "metadata": {},
   "outputs": [],
   "source": [
    "class MyQueue:\n",
    "    def __init__(self):\n",
    "        self.stack1 = []\n",
    "        self.stack2 = []\n",
    "        \n",
    "    \n",
    "    def enqueue(self,value):\n",
    "        \n",
    "        while self.stack1:\n",
    "            temp = self.stack1.pop()\n",
    "            self.stack2.append(temp)\n",
    "        self.stack1.append(value)\n",
    "        \n",
    "        while self.stack2:\n",
    "            temp = self.stack2.pop()\n",
    "            self.stack1.append(temp)\n",
    "\n",
    "    def peek(self):\n",
    "        return self.stack1[-1]\n",
    "\n",
    "    def is_empty(self):\n",
    "        return len(self.stack1) == 0\n",
    "\n",
    "    def dequeue(self):\n",
    "        # Check if the queue is empty\n",
    "        if self.is_empty():\n",
    "            # Return None if the queue is empty\n",
    "            return None\n",
    "        else:\n",
    "            # Remove and return the last element in stack1\n",
    "            # which is the first element in the queue\n",
    "            return self.stack1.pop()"
   ]
  },
  {
   "cell_type": "code",
   "execution_count": null,
   "metadata": {},
   "outputs": [],
   "source": []
  }
 ],
 "metadata": {
  "kernelspec": {
   "display_name": "Python 3",
   "language": "python",
   "name": "python3"
  },
  "language_info": {
   "codemirror_mode": {
    "name": "ipython",
    "version": 3
   },
   "file_extension": ".py",
   "mimetype": "text/x-python",
   "name": "python",
   "nbconvert_exporter": "python",
   "pygments_lexer": "ipython3",
   "version": "3.11.1"
  }
 },
 "nbformat": 4,
 "nbformat_minor": 2
}
