{
 "cells": [
  {
   "cell_type": "markdown",
   "metadata": {},
   "source": [
    "### Binary Search Trees\n",
    "\n",
    "\n",
    "A **Binary Search Tree** is a **Binary Tree** where every **node's left child** has a lower value, and every **node's right child** has a higher value.\n",
    "\n",
    "A clear advantage with Binary Search Trees is that operations like search, delete, and insert are fast and done without having to move values in memory.\n",
    "\n",
    "\n",
    "The following properties must be true for any node \"X\" in the Binary Search Tree:\n",
    "\n",
    "* The X node's left child and all of its descendants (children, children's children, and so on) have lower values than X's value.\n",
    "\n",
    "* The right child, and all its descendants have higher values than X's value.\n",
    "\n",
    "* Left and right subtrees must also be Binary Search Trees.\n",
    "\n",
    "\n",
    "\n",
    "\n",
    "#### Binary Tree Traversal\n",
    "\n",
    "Going through a Tree by visiting every node, one node at a time, is called traversal.\n",
    "\n",
    "Since Arrays and Linked Lists are linear data structures, there is only one obvious way to traverse these: start at the first element, or node, and continue to visit the next until you have visited them all.\n",
    "\n",
    "But since a Tree can branch out in different directions (non-linear), there are different ways of traversing Trees.\n",
    "\n",
    "There are two main categories of Tree traversal methods:\n",
    "\n",
    "**Breadth First Search (BFS)** is when the nodes on the same level are visited before going to the next level in the tree. This means that the tree is explored in a more sideways direction.\n",
    "\n",
    "**Depth First Search (DFS)** is when the traversal moves down the tree all the way to the leaf nodes, exploring the tree branch by branch in a downwards direction.\n",
    "\n",
    "\n",
    "\n",
    "**Pre-order Traversal** is done by visiting the root node first, then recursively do a pre-order traversal of the left subtree, followed by a recursive pre-order traversal of the right subtree. It's used for **creating a copy of the tree**, prefix notation of an expression tree, etc.\n",
    "\n",
    "* This traversal is \"pre\" order because the node is visited \"before\" the recursive pre-order traversal of the left and right subtrees.\n",
    "\n",
    "**Example**\n",
    "\n",
    "![alt text](tree.png)\n",
    "     \n",
    "\n",
    "\n",
    "**Pre-order Traverse results** :  [47,21,18,27,76,52,82]\n",
    "\n",
    "\n",
    "**Post-order Traversal** works by recursively doing a Post-order Traversal of the left subtree and the right subtree, followed by a visit to the root node. It is used for **deleting a tree**, **post-fix notation** of an expression tree, etc.\n",
    "\n",
    "* What makes this traversal \"post\" is that visiting a node is done \"after\" the left and right child nodes are called recursively.\n",
    "\n",
    "**Example**\n",
    "\n",
    "![alt text](tree.png)\n",
    "\n",
    "\n",
    "**Post-order Traverse results** : [18,27,21,52,82,76,47]\n",
    "\n",
    "\n",
    "**In-order Traversal** does a recursive In-order Traversal of the left subtree, visits the root node, and finally, does a recursive In-order Traversal of the right subtree. This traversal is mainly used for Binary Search Trees where it returns values in **ascending order**.\n",
    "\n",
    "What makes this traversal \"in\" order, is that the node is visited in between the recursive function calls. The node is visited after the In-order Traversal of the left subtree, and before the In-order Traversal of the right subtree.\n",
    "\n",
    "\n",
    "**Example**\n",
    "\n",
    "![alt text](tree.png)\n",
    "\n",
    "\n",
    "**In-order Traverse results** : [18,21,27,47,52,76,82]\n",
    "\n",
    "\n",
    "[W3 Schools - Binary Search Trees ](https://www.w3schools.com/dsa/dsa_data_binarysearchtrees.php)"
   ]
  },
  {
   "cell_type": "markdown",
   "metadata": {},
   "source": []
  },
  {
   "cell_type": "code",
   "execution_count": null,
   "metadata": {},
   "outputs": [],
   "source": [
    "class Node:\n",
    "    def __init__(self,value):\n",
    "        self.value = value \n",
    "        self.right = None\n",
    "        self.left = None\n",
    "        \n",
    "class BinarySearchTree:\n",
    "    def __init__(self):\n",
    "        self.root = None \n",
    "        \n",
    "    def insert(self, value):\n",
    "        new_node = Node(value)\n",
    "        if self.root is None:\n",
    "            self.root = new_node\n",
    "            return True \n",
    "        \n",
    "        temp = self.root \n",
    "        while (True):\n",
    "            if new_node.value == temp.value: # check if there value already exists\n",
    "                return False\n",
    "            if new_node.value < temp.value:\n",
    "                # if there is no node on the left of temp (root node)\n",
    "                if temp.left is None:\n",
    "                    temp.left = new_node\n",
    "                    return True\n",
    "                # otherwise assign it as the new temp\n",
    "                temp = temp.left\n",
    "            else:\n",
    "                # if there is no node on the right of temp (root node)\n",
    "                if temp.right is None:\n",
    "                    temp.right = new_node\n",
    "                    return True\n",
    "                 # otherwise assign it as the new temp\n",
    "                temp = temp.right\n",
    "                \n",
    "    def contains(self, value):\n",
    "        temp = self.root \n",
    "        \n",
    "        while temp is not None:\n",
    "            if value < temp.value:\n",
    "                temp = temp.left \n",
    "            elif value > temp.value:\n",
    "                temp = temp.right \n",
    "            else:\n",
    "                return True \n",
    "        return False\n",
    "    \n",
    "    \n",
    "    def BSF(self):\n",
    "        current_node = self.root\n",
    "        queue = []\n",
    "        results = []\n",
    "        queue.append(current_node)\n",
    "        \n",
    "        while len(queue) > 0:\n",
    "            current_node = queue.pop(0)\n",
    "            results.append(current_node.value)\n",
    "            if current_node.left is not None:\n",
    "                queue.append(current_node.left)\n",
    "                \n",
    "            if current_node.right is not None:\n",
    "                queue.append(current_node.right)\n",
    "                \n",
    "        return results\n",
    "    \n",
    "    def dfs_pre_order(self):\n",
    "        results = []\n",
    "        def traverse(current_node):\n",
    "            results.append(current_node.value)\n",
    "            if current_node.left is not None:\n",
    "                traverse(current_node.left)\n",
    "                \n",
    "            if current_node.right is not None:\n",
    "                traverse(current_node.right)\n",
    "        traverse(self.root)\n",
    "        return results\n",
    "    \n",
    "    \n",
    "    def dfs_post_order(self):\n",
    "       results = []\n",
    "       def traverse(current_node):\n",
    "           if current_node.left is not None:\n",
    "               traverse(current_node.left)\n",
    "           if current_node.right is not None:\n",
    "               traverse(current_node.right)\n",
    "           results.append(current_node.value)\n",
    "       traverse(self.root)\n",
    "       return results\n",
    "    \n",
    "    \n",
    "    def dfs_in_order(self):\n",
    "        results = []\n",
    "        def traverse(current_node):\n",
    "            if current_node.left is not None:\n",
    "                traverse(current_node.left)\n",
    "            results.append(current_node.value) \n",
    "            if current_node.right is not None:\n",
    "                traverse(current_node.right)          \n",
    "        traverse(self.root)\n",
    "        return results"
   ]
  },
  {
   "cell_type": "code",
   "execution_count": 5,
   "metadata": {},
   "outputs": [
    {
     "data": {
      "text/plain": [
       "True"
      ]
     },
     "execution_count": 5,
     "metadata": {},
     "output_type": "execute_result"
    }
   ],
   "source": [
    "my_tree = BinarySearchTree()\n",
    "my_tree.insert(47)\n",
    "my_tree.insert(21)\n",
    "my_tree.insert(76)\n",
    "my_tree.insert(18)\n",
    "my_tree.insert(27)\n",
    "my_tree.insert(52)\n",
    "my_tree.insert(82)"
   ]
  },
  {
   "cell_type": "code",
   "execution_count": null,
   "metadata": {},
   "outputs": [
    {
     "data": {
      "text/plain": [
       "[47, 21, 76, 18, 27, 52, 82]"
      ]
     },
     "execution_count": 6,
     "metadata": {},
     "output_type": "execute_result"
    }
   ],
   "source": [
    "my_tree.BFS()"
   ]
  },
  {
   "cell_type": "code",
   "execution_count": 7,
   "metadata": {},
   "outputs": [
    {
     "data": {
      "text/plain": [
       "[47, 21, 18, 27, 76, 52, 82]"
      ]
     },
     "execution_count": 7,
     "metadata": {},
     "output_type": "execute_result"
    }
   ],
   "source": [
    "my_tree.dfs_pre_order()"
   ]
  },
  {
   "cell_type": "code",
   "execution_count": 8,
   "metadata": {},
   "outputs": [
    {
     "data": {
      "text/plain": [
       "[18, 27, 21, 52, 82, 76, 47]"
      ]
     },
     "execution_count": 8,
     "metadata": {},
     "output_type": "execute_result"
    }
   ],
   "source": [
    "my_tree.dfs_post_order()"
   ]
  },
  {
   "cell_type": "code",
   "execution_count": 9,
   "metadata": {},
   "outputs": [
    {
     "data": {
      "text/plain": [
       "[18, 21, 27, 47, 52, 76, 82]"
      ]
     },
     "execution_count": 9,
     "metadata": {},
     "output_type": "execute_result"
    }
   ],
   "source": [
    "my_tree.dfs_in_order()"
   ]
  },
  {
   "cell_type": "code",
   "execution_count": null,
   "metadata": {},
   "outputs": [],
   "source": []
  }
 ],
 "metadata": {
  "kernelspec": {
   "display_name": "Python 3",
   "language": "python",
   "name": "python3"
  },
  "language_info": {
   "codemirror_mode": {
    "name": "ipython",
    "version": 3
   },
   "file_extension": ".py",
   "mimetype": "text/x-python",
   "name": "python",
   "nbconvert_exporter": "python",
   "pygments_lexer": "ipython3",
   "version": "3.11.1"
  }
 },
 "nbformat": 4,
 "nbformat_minor": 2
}
